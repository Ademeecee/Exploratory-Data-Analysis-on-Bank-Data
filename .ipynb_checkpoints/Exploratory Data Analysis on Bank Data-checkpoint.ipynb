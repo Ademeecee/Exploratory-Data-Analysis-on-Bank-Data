{
 "cells": [
  {
   "cell_type": "markdown",
   "id": "0329cfdf",
   "metadata": {},
   "source": [
    "# Exploratory Data Analysis on Bank Data"
   ]
  },
  {
   "cell_type": "markdown",
   "id": "3249cfdf",
   "metadata": {},
   "source": [
    "## Introduction\n",
    "In this notebook, we will perform an exploratory data analysis (EDA) on a bank dataset. The goal of this analysis is to understand the distribution of features and the target variable, visualize the relationships between features and the target variable, and identify and handle outliers.\n",
    "\n",
    "The dataset we will use for the analysis is a Portuguese banking institution dataset for direct marketing campaigns. The marketing campaigns were based on phone calls and more than one contact to the same client was required in order to check if the client would subscribe to the term deposit or not."
   ]
  },
  {
   "cell_type": "markdown",
   "id": "ac157aef",
   "metadata": {},
   "source": [
    "### Importing necessary Libraries\n",
    "We start by importing the necessary libraries: \n",
    "- **Pandas** for data manipulation and analysis.\n",
    "- **NumPy** for numerical operations.\n",
    "- **Matplotlib and Seaborn** for data visualization."
   ]
  },
  {
   "cell_type": "code",
   "execution_count": 265,
   "id": "170e8e03",
   "metadata": {},
   "outputs": [],
   "source": [
    "# Import Libraries\n",
    "import pandas as pd\n",
    "import numpy as np\n",
    "import matplotlib.pyplot as plt\n",
    "import seaborn as sns"
   ]
  },
  {
   "cell_type": "markdown",
   "id": "b1ce52eb",
   "metadata": {},
   "source": [
    "### Loading the dataset\n",
    "For data analysis, pandas provides tools to read from various formats, including CSV, TXT, Excel, JSON, and SQL. We will load our dataset which is in a csv format using the pandas read_csv() function, this function will convert the csv file into a pandas dataframe which will be used for analysis."
   ]
  },
  {
   "cell_type": "code",
   "execution_count": 266,
   "id": "5ca55637",
   "metadata": {},
   "outputs": [],
   "source": [
    "# Read in the csv file\n",
    "bank_df = pd.read_csv('bank-full.csv', sep=';')\n"
   ]
  },
  {
   "cell_type": "markdown",
   "id": "5b873347",
   "metadata": {},
   "source": [
    "### Viewing the DataFrame\n",
    "Displaying the first five rows and last five rows of the dataframe using .head() and .tail() pandas method respectively."
   ]
  },
  {
   "cell_type": "code",
   "execution_count": 267,
   "id": "ac592b37",
   "metadata": {},
   "outputs": [
    {
     "data": {
      "text/html": [
       "<div>\n",
       "<style scoped>\n",
       "    .dataframe tbody tr th:only-of-type {\n",
       "        vertical-align: middle;\n",
       "    }\n",
       "\n",
       "    .dataframe tbody tr th {\n",
       "        vertical-align: top;\n",
       "    }\n",
       "\n",
       "    .dataframe thead th {\n",
       "        text-align: right;\n",
       "    }\n",
       "</style>\n",
       "<table border=\"1\" class=\"dataframe\">\n",
       "  <thead>\n",
       "    <tr style=\"text-align: right;\">\n",
       "      <th></th>\n",
       "      <th>age</th>\n",
       "      <th>job</th>\n",
       "      <th>marital</th>\n",
       "      <th>education</th>\n",
       "      <th>default</th>\n",
       "      <th>balance</th>\n",
       "      <th>housing</th>\n",
       "      <th>loan</th>\n",
       "      <th>contact</th>\n",
       "      <th>day</th>\n",
       "      <th>month</th>\n",
       "      <th>duration</th>\n",
       "      <th>campaign</th>\n",
       "      <th>pdays</th>\n",
       "      <th>previous</th>\n",
       "      <th>poutcome</th>\n",
       "      <th>y</th>\n",
       "    </tr>\n",
       "  </thead>\n",
       "  <tbody>\n",
       "    <tr>\n",
       "      <th>0</th>\n",
       "      <td>58</td>\n",
       "      <td>management</td>\n",
       "      <td>married</td>\n",
       "      <td>tertiary</td>\n",
       "      <td>no</td>\n",
       "      <td>2143</td>\n",
       "      <td>yes</td>\n",
       "      <td>no</td>\n",
       "      <td>unknown</td>\n",
       "      <td>5</td>\n",
       "      <td>may</td>\n",
       "      <td>261</td>\n",
       "      <td>1</td>\n",
       "      <td>-1</td>\n",
       "      <td>0</td>\n",
       "      <td>unknown</td>\n",
       "      <td>no</td>\n",
       "    </tr>\n",
       "    <tr>\n",
       "      <th>1</th>\n",
       "      <td>44</td>\n",
       "      <td>technician</td>\n",
       "      <td>single</td>\n",
       "      <td>secondary</td>\n",
       "      <td>no</td>\n",
       "      <td>29</td>\n",
       "      <td>yes</td>\n",
       "      <td>no</td>\n",
       "      <td>unknown</td>\n",
       "      <td>5</td>\n",
       "      <td>may</td>\n",
       "      <td>151</td>\n",
       "      <td>1</td>\n",
       "      <td>-1</td>\n",
       "      <td>0</td>\n",
       "      <td>unknown</td>\n",
       "      <td>no</td>\n",
       "    </tr>\n",
       "    <tr>\n",
       "      <th>2</th>\n",
       "      <td>33</td>\n",
       "      <td>entrepreneur</td>\n",
       "      <td>married</td>\n",
       "      <td>secondary</td>\n",
       "      <td>no</td>\n",
       "      <td>2</td>\n",
       "      <td>yes</td>\n",
       "      <td>yes</td>\n",
       "      <td>unknown</td>\n",
       "      <td>5</td>\n",
       "      <td>may</td>\n",
       "      <td>76</td>\n",
       "      <td>1</td>\n",
       "      <td>-1</td>\n",
       "      <td>0</td>\n",
       "      <td>unknown</td>\n",
       "      <td>no</td>\n",
       "    </tr>\n",
       "    <tr>\n",
       "      <th>3</th>\n",
       "      <td>47</td>\n",
       "      <td>blue-collar</td>\n",
       "      <td>married</td>\n",
       "      <td>unknown</td>\n",
       "      <td>no</td>\n",
       "      <td>1506</td>\n",
       "      <td>yes</td>\n",
       "      <td>no</td>\n",
       "      <td>unknown</td>\n",
       "      <td>5</td>\n",
       "      <td>may</td>\n",
       "      <td>92</td>\n",
       "      <td>1</td>\n",
       "      <td>-1</td>\n",
       "      <td>0</td>\n",
       "      <td>unknown</td>\n",
       "      <td>no</td>\n",
       "    </tr>\n",
       "    <tr>\n",
       "      <th>4</th>\n",
       "      <td>33</td>\n",
       "      <td>unknown</td>\n",
       "      <td>single</td>\n",
       "      <td>unknown</td>\n",
       "      <td>no</td>\n",
       "      <td>1</td>\n",
       "      <td>no</td>\n",
       "      <td>no</td>\n",
       "      <td>unknown</td>\n",
       "      <td>5</td>\n",
       "      <td>may</td>\n",
       "      <td>198</td>\n",
       "      <td>1</td>\n",
       "      <td>-1</td>\n",
       "      <td>0</td>\n",
       "      <td>unknown</td>\n",
       "      <td>no</td>\n",
       "    </tr>\n",
       "  </tbody>\n",
       "</table>\n",
       "</div>"
      ],
      "text/plain": [
       "   age           job  marital  education default  balance housing loan  \\\n",
       "0   58    management  married   tertiary      no     2143     yes   no   \n",
       "1   44    technician   single  secondary      no       29     yes   no   \n",
       "2   33  entrepreneur  married  secondary      no        2     yes  yes   \n",
       "3   47   blue-collar  married    unknown      no     1506     yes   no   \n",
       "4   33       unknown   single    unknown      no        1      no   no   \n",
       "\n",
       "   contact  day month  duration  campaign  pdays  previous poutcome   y  \n",
       "0  unknown    5   may       261         1     -1         0  unknown  no  \n",
       "1  unknown    5   may       151         1     -1         0  unknown  no  \n",
       "2  unknown    5   may        76         1     -1         0  unknown  no  \n",
       "3  unknown    5   may        92         1     -1         0  unknown  no  \n",
       "4  unknown    5   may       198         1     -1         0  unknown  no  "
      ]
     },
     "execution_count": 267,
     "metadata": {},
     "output_type": "execute_result"
    }
   ],
   "source": [
    "# First five rows of the dataframe\n",
    "bank_df.head()"
   ]
  },
  {
   "cell_type": "code",
   "execution_count": 268,
   "id": "f04a5156",
   "metadata": {},
   "outputs": [
    {
     "data": {
      "text/html": [
       "<div>\n",
       "<style scoped>\n",
       "    .dataframe tbody tr th:only-of-type {\n",
       "        vertical-align: middle;\n",
       "    }\n",
       "\n",
       "    .dataframe tbody tr th {\n",
       "        vertical-align: top;\n",
       "    }\n",
       "\n",
       "    .dataframe thead th {\n",
       "        text-align: right;\n",
       "    }\n",
       "</style>\n",
       "<table border=\"1\" class=\"dataframe\">\n",
       "  <thead>\n",
       "    <tr style=\"text-align: right;\">\n",
       "      <th></th>\n",
       "      <th>age</th>\n",
       "      <th>job</th>\n",
       "      <th>marital</th>\n",
       "      <th>education</th>\n",
       "      <th>default</th>\n",
       "      <th>balance</th>\n",
       "      <th>housing</th>\n",
       "      <th>loan</th>\n",
       "      <th>contact</th>\n",
       "      <th>day</th>\n",
       "      <th>month</th>\n",
       "      <th>duration</th>\n",
       "      <th>campaign</th>\n",
       "      <th>pdays</th>\n",
       "      <th>previous</th>\n",
       "      <th>poutcome</th>\n",
       "      <th>y</th>\n",
       "    </tr>\n",
       "  </thead>\n",
       "  <tbody>\n",
       "    <tr>\n",
       "      <th>45206</th>\n",
       "      <td>51</td>\n",
       "      <td>technician</td>\n",
       "      <td>married</td>\n",
       "      <td>tertiary</td>\n",
       "      <td>no</td>\n",
       "      <td>825</td>\n",
       "      <td>no</td>\n",
       "      <td>no</td>\n",
       "      <td>cellular</td>\n",
       "      <td>17</td>\n",
       "      <td>nov</td>\n",
       "      <td>977</td>\n",
       "      <td>3</td>\n",
       "      <td>-1</td>\n",
       "      <td>0</td>\n",
       "      <td>unknown</td>\n",
       "      <td>yes</td>\n",
       "    </tr>\n",
       "    <tr>\n",
       "      <th>45207</th>\n",
       "      <td>71</td>\n",
       "      <td>retired</td>\n",
       "      <td>divorced</td>\n",
       "      <td>primary</td>\n",
       "      <td>no</td>\n",
       "      <td>1729</td>\n",
       "      <td>no</td>\n",
       "      <td>no</td>\n",
       "      <td>cellular</td>\n",
       "      <td>17</td>\n",
       "      <td>nov</td>\n",
       "      <td>456</td>\n",
       "      <td>2</td>\n",
       "      <td>-1</td>\n",
       "      <td>0</td>\n",
       "      <td>unknown</td>\n",
       "      <td>yes</td>\n",
       "    </tr>\n",
       "    <tr>\n",
       "      <th>45208</th>\n",
       "      <td>72</td>\n",
       "      <td>retired</td>\n",
       "      <td>married</td>\n",
       "      <td>secondary</td>\n",
       "      <td>no</td>\n",
       "      <td>5715</td>\n",
       "      <td>no</td>\n",
       "      <td>no</td>\n",
       "      <td>cellular</td>\n",
       "      <td>17</td>\n",
       "      <td>nov</td>\n",
       "      <td>1127</td>\n",
       "      <td>5</td>\n",
       "      <td>184</td>\n",
       "      <td>3</td>\n",
       "      <td>success</td>\n",
       "      <td>yes</td>\n",
       "    </tr>\n",
       "    <tr>\n",
       "      <th>45209</th>\n",
       "      <td>57</td>\n",
       "      <td>blue-collar</td>\n",
       "      <td>married</td>\n",
       "      <td>secondary</td>\n",
       "      <td>no</td>\n",
       "      <td>668</td>\n",
       "      <td>no</td>\n",
       "      <td>no</td>\n",
       "      <td>telephone</td>\n",
       "      <td>17</td>\n",
       "      <td>nov</td>\n",
       "      <td>508</td>\n",
       "      <td>4</td>\n",
       "      <td>-1</td>\n",
       "      <td>0</td>\n",
       "      <td>unknown</td>\n",
       "      <td>no</td>\n",
       "    </tr>\n",
       "    <tr>\n",
       "      <th>45210</th>\n",
       "      <td>37</td>\n",
       "      <td>entrepreneur</td>\n",
       "      <td>married</td>\n",
       "      <td>secondary</td>\n",
       "      <td>no</td>\n",
       "      <td>2971</td>\n",
       "      <td>no</td>\n",
       "      <td>no</td>\n",
       "      <td>cellular</td>\n",
       "      <td>17</td>\n",
       "      <td>nov</td>\n",
       "      <td>361</td>\n",
       "      <td>2</td>\n",
       "      <td>188</td>\n",
       "      <td>11</td>\n",
       "      <td>other</td>\n",
       "      <td>no</td>\n",
       "    </tr>\n",
       "  </tbody>\n",
       "</table>\n",
       "</div>"
      ],
      "text/plain": [
       "       age           job   marital  education default  balance housing loan  \\\n",
       "45206   51    technician   married   tertiary      no      825      no   no   \n",
       "45207   71       retired  divorced    primary      no     1729      no   no   \n",
       "45208   72       retired   married  secondary      no     5715      no   no   \n",
       "45209   57   blue-collar   married  secondary      no      668      no   no   \n",
       "45210   37  entrepreneur   married  secondary      no     2971      no   no   \n",
       "\n",
       "         contact  day month  duration  campaign  pdays  previous poutcome    y  \n",
       "45206   cellular   17   nov       977         3     -1         0  unknown  yes  \n",
       "45207   cellular   17   nov       456         2     -1         0  unknown  yes  \n",
       "45208   cellular   17   nov      1127         5    184         3  success  yes  \n",
       "45209  telephone   17   nov       508         4     -1         0  unknown   no  \n",
       "45210   cellular   17   nov       361         2    188        11    other   no  "
      ]
     },
     "execution_count": 268,
     "metadata": {},
     "output_type": "execute_result"
    }
   ],
   "source": [
    "# Last five rows of the dataframe\n",
    "bank_df.tail()"
   ]
  },
  {
   "cell_type": "markdown",
   "id": "aecd1bbb",
   "metadata": {},
   "source": [
    "### Shape of the Data\n",
    "We can check the shape of the dataframe i.e the number of rows and columns using the .shape attribute."
   ]
  },
  {
   "cell_type": "code",
   "execution_count": 269,
   "id": "c6017ca2",
   "metadata": {},
   "outputs": [
    {
     "data": {
      "text/plain": [
       "(45211, 17)"
      ]
     },
     "execution_count": 269,
     "metadata": {},
     "output_type": "execute_result"
    }
   ],
   "source": [
    "bank_df.shape"
   ]
  },
  {
   "cell_type": "markdown",
   "id": "ac218ea8",
   "metadata": {},
   "source": [
    "This shows that there are 45211 rows and 17 columns in the dataframe."
   ]
  },
  {
   "cell_type": "code",
   "execution_count": 311,
   "id": "cd65fdc2",
   "metadata": {},
   "outputs": [
    {
     "data": {
      "text/plain": [
       "Index(['age', 'job', 'marital', 'education', 'default', 'balance', 'housing',\n",
       "       'loan', 'contact', 'day', 'month', 'duration', 'campaign', 'pdays',\n",
       "       'previous', 'poutcome', 'y'],\n",
       "      dtype='object')"
      ]
     },
     "execution_count": 311,
     "metadata": {},
     "output_type": "execute_result"
    }
   ],
   "source": [
    "# checking the column names\n",
    "bank_df.columns"
   ]
  },
  {
   "cell_type": "markdown",
   "id": "6dfd7a5a",
   "metadata": {},
   "source": [
    "### Data information\n",
    "Obtaining additional information about the dataset such as the names of the different columns and their corresponding data types as well as the number of non-null values which can be achieved using the .info() method."
   ]
  },
  {
   "cell_type": "code",
   "execution_count": 270,
   "id": "f77e88b9",
   "metadata": {},
   "outputs": [
    {
     "name": "stdout",
     "output_type": "stream",
     "text": [
      "<class 'pandas.core.frame.DataFrame'>\n",
      "RangeIndex: 45211 entries, 0 to 45210\n",
      "Data columns (total 17 columns):\n",
      " #   Column     Non-Null Count  Dtype \n",
      "---  ------     --------------  ----- \n",
      " 0   age        45211 non-null  int64 \n",
      " 1   job        45211 non-null  object\n",
      " 2   marital    45211 non-null  object\n",
      " 3   education  45211 non-null  object\n",
      " 4   default    45211 non-null  object\n",
      " 5   balance    45211 non-null  int64 \n",
      " 6   housing    45211 non-null  object\n",
      " 7   loan       45211 non-null  object\n",
      " 8   contact    45211 non-null  object\n",
      " 9   day        45211 non-null  int64 \n",
      " 10  month      45211 non-null  object\n",
      " 11  duration   45211 non-null  int64 \n",
      " 12  campaign   45211 non-null  int64 \n",
      " 13  pdays      45211 non-null  int64 \n",
      " 14  previous   45211 non-null  int64 \n",
      " 15  poutcome   45211 non-null  object\n",
      " 16  y          45211 non-null  object\n",
      "dtypes: int64(7), object(10)\n",
      "memory usage: 5.9+ MB\n"
     ]
    }
   ],
   "source": [
    "# More information on the dataset\n",
    "bank_df.info()"
   ]
  },
  {
   "cell_type": "markdown",
   "id": "c0ddf132",
   "metadata": {},
   "source": [
    "This shows that the dataframe contains no missing values. There are 10 columns with the object datatype while the rest are of int64 datatype."
   ]
  },
  {
   "cell_type": "markdown",
   "id": "91588340",
   "metadata": {},
   "source": [
    "## Task 1: Understanding the Distribution of Features and Target Variable\n",
    "We will examine the distribution of three features and the target variable in our dataset. This step helps in understanding the central tendency, variability, and distribution shape of the data.\n",
    "\n",
    "**Objective**: Analyze and visualize the distribution of selected features.\n",
    "\n",
    "**Intuition**: Understanding feature distribution is crucial for identifying patterns, central tendencies, and spread. It also helps in detecting outliers.\n",
    "\n",
    "**Methods**: Use histograms and summary statistics.\n",
    "\n",
    "**Selecting Features**:\n",
    "   - We chose three features: age, balance, and personal loan status, as they are likely to have a significant impact on the target variable.\n",
    "   - We also examine the target variable (y) to understand its distribution.\n",
    "   \n",
    "**Analyzing Distributions**:\n",
    "   - For each selected feature and the target variable, we will generate summary statistics (mean, median, standard deviation, etc.) to understand the central tendency and variability.\n",
    "   - We will create histograms with KDE (Kernel Density Estimate) plots to visualize the distribution of these features. This helps us identify the shape of the distribution (e.g., normal, skewed) and any potential anomalies."
   ]
  },
  {
   "cell_type": "markdown",
   "id": "91b920c1",
   "metadata": {},
   "source": [
    "### Age feature distribution"
   ]
  },
  {
   "cell_type": "code",
   "execution_count": 271,
   "id": "2ae1f9b3",
   "metadata": {},
   "outputs": [
    {
     "data": {
      "image/png": "[encoded data removed]",
      "text/plain": [
       "<Figure size 800x600 with 1 Axes>"
      ]
     },
     "metadata": {},
     "output_type": "display_data"
    }
   ],
   "source": [
    "# Histogram of Age\n",
    "plt.figure(figsize=(8, 6))\n",
    "sns.histplot(bank_df['age'], bins=30, kde=True)\n",
    "plt.title('Distribution of Age')\n",
    "plt.xlabel('Age')\n",
    "plt.ylabel('Frequency')\n",
    "plt.show()"
   ]
  },
  {
   "cell_type": "code",
   "execution_count": 272,
   "id": "2b6130bc",
   "metadata": {},
   "outputs": [
    {
     "data": {
      "text/html": [
       "<div>\n",
       "<style scoped>\n",
       "    .dataframe tbody tr th:only-of-type {\n",
       "        vertical-align: middle;\n",
       "    }\n",
       "\n",
       "    .dataframe tbody tr th {\n",
       "        vertical-align: top;\n",
       "    }\n",
       "\n",
       "    .dataframe thead th {\n",
       "        text-align: right;\n",
       "    }\n",
       "</style>\n",
       "<table border=\"1\" class=\"dataframe\">\n",
       "  <thead>\n",
       "    <tr style=\"text-align: right;\">\n",
       "      <th></th>\n",
       "      <th>age</th>\n",
       "    </tr>\n",
       "  </thead>\n",
       "  <tbody>\n",
       "    <tr>\n",
       "      <th>count</th>\n",
       "      <td>45211.000000</td>\n",
       "    </tr>\n",
       "    <tr>\n",
       "      <th>mean</th>\n",
       "      <td>40.936210</td>\n",
       "    </tr>\n",
       "    <tr>\n",
       "      <th>std</th>\n",
       "      <td>10.618762</td>\n",
       "    </tr>\n",
       "    <tr>\n",
       "      <th>min</th>\n",
       "      <td>18.000000</td>\n",
       "    </tr>\n",
       "    <tr>\n",
       "      <th>25%</th>\n",
       "      <td>33.000000</td>\n",
       "    </tr>\n",
       "    <tr>\n",
       "      <th>50%</th>\n",
       "      <td>39.000000</td>\n",
       "    </tr>\n",
       "    <tr>\n",
       "      <th>75%</th>\n",
       "      <td>48.000000</td>\n",
       "    </tr>\n",
       "    <tr>\n",
       "      <th>max</th>\n",
       "      <td>95.000000</td>\n",
       "    </tr>\n",
       "  </tbody>\n",
       "</table>\n",
       "</div>"
      ],
      "text/plain": [
       "                age\n",
       "count  45211.000000\n",
       "mean      40.936210\n",
       "std       10.618762\n",
       "min       18.000000\n",
       "25%       33.000000\n",
       "50%       39.000000\n",
       "75%       48.000000\n",
       "max       95.000000"
      ]
     },
     "execution_count": 272,
     "metadata": {},
     "output_type": "execute_result"
    }
   ],
   "source": [
    "# Summary statistics of Age\n",
    "bank_df[['age']].describe()"
   ]
  },
  {
   "cell_type": "markdown",
   "id": "bbaec45f",
   "metadata": {},
   "source": [
    "**Age Distribution:**\n",
    "- The histogram shows that the age distribution in the dataset is right-skewed, with most individuals in the 30-40 age range. The population is predominantly younger, and the number of customers decreases significantly after age 60. The ages range from the early 20s to the late 90s, but older age groups have significantly fewer observations.\n",
    "\n",
    "- Summary statistics shows that the age data shows a relatively wide range of ages, from 18 to 95 years. The average age is around 41 years, with the majority of customers falling between 33 and 48 years old. The median age is slightly lower than the mean, indicating a slight skew towards younger ages. The standard deviation of about 10.62 years suggests moderate variability around the mean age. "
   ]
  },
  {
   "cell_type": "code",
   "execution_count": 273,
   "id": "765ef189",
   "metadata": {
    "scrolled": true
   },
   "outputs": [
    {
     "data": {
      "text/html": [
       "<div>\n",
       "<style scoped>\n",
       "    .dataframe tbody tr th:only-of-type {\n",
       "        vertical-align: middle;\n",
       "    }\n",
       "\n",
       "    .dataframe tbody tr th {\n",
       "        vertical-align: top;\n",
       "    }\n",
       "\n",
       "    .dataframe thead th {\n",
       "        text-align: right;\n",
       "    }\n",
       "</style>\n",
       "<table border=\"1\" class=\"dataframe\">\n",
       "  <thead>\n",
       "    <tr style=\"text-align: right;\">\n",
       "      <th></th>\n",
       "      <th>age</th>\n",
       "    </tr>\n",
       "    <tr>\n",
       "      <th>age</th>\n",
       "      <th></th>\n",
       "    </tr>\n",
       "  </thead>\n",
       "  <tbody>\n",
       "    <tr>\n",
       "      <th>18</th>\n",
       "      <td>12</td>\n",
       "    </tr>\n",
       "    <tr>\n",
       "      <th>19</th>\n",
       "      <td>35</td>\n",
       "    </tr>\n",
       "    <tr>\n",
       "      <th>20</th>\n",
       "      <td>50</td>\n",
       "    </tr>\n",
       "    <tr>\n",
       "      <th>21</th>\n",
       "      <td>79</td>\n",
       "    </tr>\n",
       "    <tr>\n",
       "      <th>22</th>\n",
       "      <td>129</td>\n",
       "    </tr>\n",
       "    <tr>\n",
       "      <th>...</th>\n",
       "      <td>...</td>\n",
       "    </tr>\n",
       "    <tr>\n",
       "      <th>90</th>\n",
       "      <td>2</td>\n",
       "    </tr>\n",
       "    <tr>\n",
       "      <th>92</th>\n",
       "      <td>2</td>\n",
       "    </tr>\n",
       "    <tr>\n",
       "      <th>93</th>\n",
       "      <td>2</td>\n",
       "    </tr>\n",
       "    <tr>\n",
       "      <th>94</th>\n",
       "      <td>1</td>\n",
       "    </tr>\n",
       "    <tr>\n",
       "      <th>95</th>\n",
       "      <td>2</td>\n",
       "    </tr>\n",
       "  </tbody>\n",
       "</table>\n",
       "<p>77 rows × 1 columns</p>\n",
       "</div>"
      ],
      "text/plain": [
       "     age\n",
       "age     \n",
       "18    12\n",
       "19    35\n",
       "20    50\n",
       "21    79\n",
       "22   129\n",
       "..   ...\n",
       "90     2\n",
       "92     2\n",
       "93     2\n",
       "94     1\n",
       "95     2\n",
       "\n",
       "[77 rows x 1 columns]"
      ]
     },
     "execution_count": 273,
     "metadata": {},
     "output_type": "execute_result"
    }
   ],
   "source": [
    "age_group_dist = bank_df.groupby('age')[['age']].agg('count')\n",
    "age_group_dist"
   ]
  },
  {
   "cell_type": "code",
   "execution_count": 274,
   "id": "1d2b041f",
   "metadata": {},
   "outputs": [
    {
     "data": {
      "text/plain": [
       "<Axes: xlabel='age', ylabel='Count'>"
      ]
     },
     "execution_count": 274,
     "metadata": {},
     "output_type": "execute_result"
    },
    {
     "data": {
      "image/png": "[encoded data removed]",
      "text/plain": [
       "<Figure size 640x480 with 1 Axes>"
      ]
     },
     "metadata": {},
     "output_type": "display_data"
    }
   ],
   "source": [
    "sns.histplot(age_group_dist,x='age')"
   ]
  },
  {
   "cell_type": "markdown",
   "id": "dc0452aa",
   "metadata": {},
   "source": [
    "### Balance feature distribution"
   ]
  },
  {
   "cell_type": "code",
   "execution_count": 275,
   "id": "97cf7036",
   "metadata": {},
   "outputs": [
    {
     "data": {
      "image/png": "[encoded data removed]",
      "text/plain": [
       "<Figure size 800x600 with 2 Axes>"
      ]
     },
     "metadata": {},
     "output_type": "display_data"
    }
   ],
   "source": [
    "# Histogram of Age\n",
    "plt.figure(figsize=(8, 6))\n",
    "plt.subplot(1, 2, 1)\n",
    "\n",
    "sns.histplot(bank_df, x='balance', bins=100,kde=True)\n",
    "plt.title('Histogram distribution of Balance')\n",
    "plt.xlabel('Balance')\n",
    "plt.ylabel('Frequency')\n",
    "\n",
    "plt.subplot(1, 2, 2)\n",
    "sns.boxplot(bank_df['balance']) \n",
    "plt.title('Boxplot distribution of Balance')\n",
    "plt.xlabel('Balance')\n",
    "plt.ylabel('Frequency')\n",
    "\n",
    "plt.tight_layout()\n",
    "plt.show()\n",
    "\n"
   ]
  },
  {
   "cell_type": "code",
   "execution_count": 276,
   "id": "0686914f",
   "metadata": {},
   "outputs": [
    {
     "data": {
      "text/html": [
       "<div>\n",
       "<style scoped>\n",
       "    .dataframe tbody tr th:only-of-type {\n",
       "        vertical-align: middle;\n",
       "    }\n",
       "\n",
       "    .dataframe tbody tr th {\n",
       "        vertical-align: top;\n",
       "    }\n",
       "\n",
       "    .dataframe thead th {\n",
       "        text-align: right;\n",
       "    }\n",
       "</style>\n",
       "<table border=\"1\" class=\"dataframe\">\n",
       "  <thead>\n",
       "    <tr style=\"text-align: right;\">\n",
       "      <th></th>\n",
       "      <th>balance</th>\n",
       "    </tr>\n",
       "  </thead>\n",
       "  <tbody>\n",
       "    <tr>\n",
       "      <th>count</th>\n",
       "      <td>45211.000000</td>\n",
       "    </tr>\n",
       "    <tr>\n",
       "      <th>mean</th>\n",
       "      <td>1362.272058</td>\n",
       "    </tr>\n",
       "    <tr>\n",
       "      <th>std</th>\n",
       "      <td>3044.765829</td>\n",
       "    </tr>\n",
       "    <tr>\n",
       "      <th>min</th>\n",
       "      <td>-8019.000000</td>\n",
       "    </tr>\n",
       "    <tr>\n",
       "      <th>25%</th>\n",
       "      <td>72.000000</td>\n",
       "    </tr>\n",
       "    <tr>\n",
       "      <th>50%</th>\n",
       "      <td>448.000000</td>\n",
       "    </tr>\n",
       "    <tr>\n",
       "      <th>75%</th>\n",
       "      <td>1428.000000</td>\n",
       "    </tr>\n",
       "    <tr>\n",
       "      <th>max</th>\n",
       "      <td>102127.000000</td>\n",
       "    </tr>\n",
       "  </tbody>\n",
       "</table>\n",
       "</div>"
      ],
      "text/plain": [
       "             balance\n",
       "count   45211.000000\n",
       "mean     1362.272058\n",
       "std      3044.765829\n",
       "min     -8019.000000\n",
       "25%        72.000000\n",
       "50%       448.000000\n",
       "75%      1428.000000\n",
       "max    102127.000000"
      ]
     },
     "execution_count": 276,
     "metadata": {},
     "output_type": "execute_result"
    }
   ],
   "source": [
    "# Summary statistics of Age\n",
    "bank_df[['balance']].describe()"
   ]
  },
  {
   "cell_type": "markdown",
   "id": "b5cdd8ca",
   "metadata": {},
   "source": [
    "**Balance Distribution:**\n",
    "- The summary statistics shows that the balance feature varies significantly, ranging from -8,019 to 102,127 dollars. Most balances are small, with a median of 448 dollars and 75th percentile of 1,428 dollars. The mean is greater than the median, and a high standard deviation along with large maximum values indicate a right-skewed distribution with some customers having extremely high balances.\n",
    "- The histogram also shows that the balance feature is skewed to the right, indicating that while most customers have modest incomes, a few have significantly higher ones. The boxplot reinforced this observation, showing a concentration of data points in the lower range and a few outliers beyond the upper quartile.\n"
   ]
  },
  {
   "cell_type": "markdown",
   "id": "639bf267",
   "metadata": {},
   "source": [
    "### Loan Feature Distribution"
   ]
  },
  {
   "cell_type": "code",
   "execution_count": 277,
   "id": "355a1210",
   "metadata": {},
   "outputs": [
    {
     "data": {
      "image/png": "[encoded data removed]",
      "text/plain": [
       "<Figure size 800x600 with 1 Axes>"
      ]
     },
     "metadata": {},
     "output_type": "display_data"
    }
   ],
   "source": [
    "# Countplot of Loan\n",
    "plt.figure(figsize=(8, 6))\n",
    "sns.countplot(bank_df, x='loan')\n",
    "plt.title('Count of customers with/without personal loan')\n",
    "plt.xlabel('Loan')\n",
    "plt.ylabel('Count')\n",
    "plt.show()"
   ]
  },
  {
   "cell_type": "code",
   "execution_count": 278,
   "id": "cd2fb208",
   "metadata": {},
   "outputs": [
    {
     "data": {
      "text/plain": [
       "loan\n",
       "no     0.839774\n",
       "yes    0.160226\n",
       "Name: proportion, dtype: float64"
      ]
     },
     "execution_count": 278,
     "metadata": {},
     "output_type": "execute_result"
    }
   ],
   "source": [
    "# Value count of Loan\n",
    "bank_df['loan'].value_counts(normalize=True)"
   ]
  },
  {
   "cell_type": "markdown",
   "id": "e5adc311",
   "metadata": {},
   "source": [
    "**Loan Distribution:**\n",
    "- The countplot and value count shows that a significant proportion of customers in the dataset do not have a loan, with 37,967 (approximately 84%) not having a loan and 7,244 (approximately 16%) having a loan. This reveals that there is imbalance in the loan feature distribution."
   ]
  },
  {
   "cell_type": "markdown",
   "id": "b0263055",
   "metadata": {},
   "source": [
    "### Y (Target) distribution"
   ]
  },
  {
   "cell_type": "code",
   "execution_count": 279,
   "id": "97b92e65",
   "metadata": {},
   "outputs": [
    {
     "data": {
      "image/png": "[encoded data removed]",
      "text/plain": [
       "<Figure size 800x600 with 1 Axes>"
      ]
     },
     "metadata": {},
     "output_type": "display_data"
    }
   ],
   "source": [
    "# Countplot of the target feature\n",
    "plt.figure(figsize=(8, 6))\n",
    "sns.countplot(bank_df, x='y')\n",
    "plt.title('Outcome of the campaign')\n",
    "plt.xlabel('Target')\n",
    "plt.ylabel('Count')\n",
    "plt.show()"
   ]
  },
  {
   "cell_type": "code",
   "execution_count": 280,
   "id": "88512c96",
   "metadata": {},
   "outputs": [
    {
     "data": {
      "text/plain": [
       "y\n",
       "no     0.883015\n",
       "yes    0.116985\n",
       "Name: proportion, dtype: float64"
      ]
     },
     "execution_count": 280,
     "metadata": {},
     "output_type": "execute_result"
    }
   ],
   "source": [
    "# Value count of the target\n",
    "bank_df['y'].value_counts(normalize=True)"
   ]
  },
  {
   "cell_type": "markdown",
   "id": "ed933d08",
   "metadata": {},
   "source": [
    "**Target Distribution:**\n",
    "- Majority of individuals in the dataset, 39,922 (approximately 88.30%), did not subscribe to a term deposit, while 5,289 (approximately 11.70%) did. This indicates that a small proportion of the population in the dataset opted for the term deposit."
   ]
  },
  {
   "cell_type": "markdown",
   "id": "22e870c9",
   "metadata": {},
   "source": [
    "## Task 2: Visualizing Relationships Between Features and Target Variable\n",
    "In this task, we will visualize the relationships between the features (age, balance, loan) and the target variable (y) using scatter plots, histograms, and box plots.\n",
    "\n",
    "**Objective**: Visualize relationships between features (age, income, loan amount) and the target variable.\n",
    "\n",
    "**Intuition**: This helps in identifying any potential correlations or patterns that could inform further analysis or model development.\n",
    "\n",
    "**Methods**: Use scatter plots, histograms, and box plots.\n",
    "\n",
    "**Scatter Plots and Box Plots**:\n",
    "   - We use scatter plots to visualize the relationship between each feature (age, income, loan amount) and the target variable. Scatter plots help in identifying trends, clusters, and outliers.\n",
    "   - Box plots are used to show the distribution of the target variable across different levels of the features. This helps in understanding the spread and identifying any significant differences or patterns.\n",
    "\n",
    "**Goals**:\n",
    "   - By examining these plots, we can infer if there is any apparent relationship or correlation between the features and the target variable.\n",
    "   - We also look for outliers and anomalies that might need further investigation or handling.\n"
   ]
  },
  {
   "cell_type": "markdown",
   "id": "8347304e",
   "metadata": {},
   "source": [
    "### Age Vs Target"
   ]
  },
  {
   "cell_type": "code",
   "execution_count": 281,
   "id": "5741dcab",
   "metadata": {},
   "outputs": [
    {
     "data": {
      "image/png": "[encoded data removed]",
      "text/plain": [
       "<Figure size 800x600 with 1 Axes>"
      ]
     },
     "metadata": {},
     "output_type": "display_data"
    }
   ],
   "source": [
    "# Box plot of Age vs Target\n",
    "plt.figure(figsize=(8, 6))\n",
    "sns.boxplot(x='y', y='age', data=bank_df, palette='Set2')\n",
    "plt.title('Distribution of Age per Target (y)')\n",
    "plt.grid(True)\n",
    "plt.show()"
   ]
  },
  {
   "cell_type": "markdown",
   "id": "e398ca7d",
   "metadata": {},
   "source": [
    "The box plot indicates that the age distribution of individuals who subscribe to a term deposit (yes) and those who do not (no) is quite similar in terms of median, interquartile range, and overall spread. The main difference is that there is the slightly higher number of older customers (outliers) in the no group. This suggests that age alone may not be a significant factor in determining those who subscribe to a term deposit and those who do not, although there are some older individuals who tend not to subscribe."
   ]
  },
  {
   "cell_type": "code",
   "execution_count": 282,
   "id": "b87ed71d",
   "metadata": {},
   "outputs": [
    {
     "name": "stderr",
     "output_type": "stream",
     "text": [
      "/Users/meecee/anaconda3/lib/python3.11/site-packages/seaborn/axisgrid.py:118: UserWarning: The figure layout has changed to tight\n",
      "  self._figure.tight_layout(*args, **kwargs)\n",
      "/var/folders/zd/0bzshzyx5tx0n2wd8q88c7480000gn/T/ipykernel_84537/2322245793.py:3: UserWarning: The figure layout has changed to tight\n",
      "  plt.tight_layout()\n"
     ]
    },
    {
     "data": {
      "image/png": "[encoded data removed]",
      "text/plain": [
       "<Figure size 1000x500 with 2 Axes>"
      ]
     },
     "metadata": {},
     "output_type": "display_data"
    }
   ],
   "source": [
    "# Histogram of Age vs Target\n",
    "sns.displot(data=bank_df, x='age', col='y',kind='hist')\n",
    "plt.tight_layout()\n",
    "plt.show()"
   ]
  },
  {
   "cell_type": "markdown",
   "id": "b7a3c1fc",
   "metadata": {},
   "source": [
    "The histplot also shows that while the age distribution of both subscribers and non-subscribers is similar, non-subscribers outnumber subscribers across all age groups. This shows that regardless of age, a larger number of people do not subscribe to term deposits, with a higher concentration among younger people."
   ]
  },
  {
   "cell_type": "markdown",
   "id": "ae9ddb88",
   "metadata": {},
   "source": [
    "### Balance Vs Target"
   ]
  },
  {
   "cell_type": "code",
   "execution_count": 283,
   "id": "dcefb396",
   "metadata": {
    "scrolled": false
   },
   "outputs": [
    {
     "data": {
      "image/png": "[encoded data removed]",
      "text/plain": [
       "<Figure size 640x480 with 1 Axes>"
      ]
     },
     "metadata": {},
     "output_type": "display_data"
    }
   ],
   "source": [
    "# Box plot of Balance vs Target\n",
    "sns.boxplot(x='y', y='balance', data=bank_df, palette='Set2')\n",
    "plt.title('Distribution of Balance per Campaign outcome (y)')\n",
    "plt.yscale('log')\n",
    "plt.show()"
   ]
  },
  {
   "cell_type": "code",
   "execution_count": 302,
   "id": "ee52c5e7",
   "metadata": {},
   "outputs": [
    {
     "name": "stderr",
     "output_type": "stream",
     "text": [
      "/Users/meecee/anaconda3/lib/python3.11/site-packages/seaborn/axisgrid.py:118: UserWarning: The figure layout has changed to tight\n",
      "  self._figure.tight_layout(*args, **kwargs)\n",
      "/var/folders/zd/0bzshzyx5tx0n2wd8q88c7480000gn/T/ipykernel_84537/2770113353.py:4: UserWarning: The figure layout has changed to tight\n",
      "  plt.tight_layout()\n"
     ]
    },
    {
     "data": {
      "image/png": "[encoded data removed]",
      "text/plain": [
       "<Figure size 1000x500 with 2 Axes>"
      ]
     },
     "metadata": {},
     "output_type": "display_data"
    }
   ],
   "source": [
    "# Box plot of Balance vs Target\n",
    "sns.displot(bank_df, x='balance', col='y', bins=20)\n",
    "plt.suptitle('Distribution of Balance per Campaign outcome (y)', y=1.1)\n",
    "plt.tight_layout()\n",
    "plt.show()"
   ]
  },
  {
   "cell_type": "markdown",
   "id": "9fc45c81",
   "metadata": {},
   "source": [
    "The histogram is skewed to the right in both groups suggesting the presence of outliers. The box plot suggests that customers with higher account balances are more likely to subscribe to a term deposit. The presence of outliers in both groups indicates a wide range of balances, but the higher median balance among subscribers suggests a correlation between higher balances and the likelihood of subscribing to a term deposit."
   ]
  },
  {
   "cell_type": "markdown",
   "id": "9f660718",
   "metadata": {},
   "source": [
    "### Loan Vs Target"
   ]
  },
  {
   "cell_type": "code",
   "execution_count": 285,
   "id": "900d7357",
   "metadata": {},
   "outputs": [
    {
     "data": {
      "image/png": "[encoded data removed]",
      "text/plain": [
       "<Figure size 800x600 with 1 Axes>"
      ]
     },
     "metadata": {},
     "output_type": "display_data"
    }
   ],
   "source": [
    "# Histogram of Loan vs Target\n",
    "plt.figure(figsize=(8, 6))\n",
    "sns.histplot(data=bank_df, x='loan', hue='y', multiple='stack')\n",
    "plt.title('Distribution of Loan per Campaign outcome (y)')\n",
    "plt.show()"
   ]
  },
  {
   "cell_type": "markdown",
   "id": "212c53b1",
   "metadata": {},
   "source": [
    "The histogram plot shows that although more customers without loans tend to subscribe to term deposits, the presence or absence of a loan does not significantly distinguish between those who subscribe and those who do not. The common trait in both groups is the absence of a loan."
   ]
  },
  {
   "cell_type": "markdown",
   "id": "34925b97",
   "metadata": {},
   "source": [
    "## Task 3: Identifying and Handling Outliers\n",
    "Identifying and handling outliers is a crucial step to ensure the accuracy of our analysis. Outliers can significantly affect the results of our analysis and machine learning models.\n",
    "\n",
    "**Objective**: Identify and handle outliers in the dataset to ensure the accuracy of the analysis.\n",
    "\n",
    "**Intuition**: Outliers can skew analysis and lead to misleading results. Handling them appropriately is essential for robust analysis.\n",
    "\n",
    "**Method**: Use visualization method like box plot and statistical methods like the Interquartile Range (IQR) to detect outliers and decide on a strategy like capping to handle them.\n"
   ]
  },
  {
   "cell_type": "markdown",
   "id": "dfafb4a8",
   "metadata": {},
   "source": [
    "#### Detecting Age Outliers"
   ]
  },
  {
   "cell_type": "code",
   "execution_count": 286,
   "id": "abefc738",
   "metadata": {},
   "outputs": [
    {
     "data": {
      "image/png": "[encoded data removed]",
      "text/plain": [
       "<Figure size 640x480 with 1 Axes>"
      ]
     },
     "metadata": {},
     "output_type": "display_data"
    }
   ],
   "source": [
    "# Detecting Outliers using Box plot for the Age feature\n",
    "sns.boxplot(x=bank_df['age'])\n",
    "plt.title('Box Plot of Age')\n",
    "plt.xlabel('Age')\n",
    "plt.show()"
   ]
  },
  {
   "cell_type": "markdown",
   "id": "3c6fa731",
   "metadata": {},
   "source": [
    "This box plot reveals that there are several outliers above the age of 70 which indicate the presence of elderly customers in the dataset."
   ]
  },
  {
   "cell_type": "code",
   "execution_count": 287,
   "id": "95d03d2a",
   "metadata": {},
   "outputs": [
    {
     "data": {
      "text/html": [
       "<div>\n",
       "<style scoped>\n",
       "    .dataframe tbody tr th:only-of-type {\n",
       "        vertical-align: middle;\n",
       "    }\n",
       "\n",
       "    .dataframe tbody tr th {\n",
       "        vertical-align: top;\n",
       "    }\n",
       "\n",
       "    .dataframe thead th {\n",
       "        text-align: right;\n",
       "    }\n",
       "</style>\n",
       "<table border=\"1\" class=\"dataframe\">\n",
       "  <thead>\n",
       "    <tr style=\"text-align: right;\">\n",
       "      <th></th>\n",
       "      <th>age</th>\n",
       "      <th>job</th>\n",
       "      <th>marital</th>\n",
       "      <th>education</th>\n",
       "      <th>default</th>\n",
       "      <th>balance</th>\n",
       "      <th>housing</th>\n",
       "      <th>loan</th>\n",
       "      <th>contact</th>\n",
       "      <th>day</th>\n",
       "      <th>month</th>\n",
       "      <th>duration</th>\n",
       "      <th>campaign</th>\n",
       "      <th>pdays</th>\n",
       "      <th>previous</th>\n",
       "      <th>poutcome</th>\n",
       "      <th>y</th>\n",
       "    </tr>\n",
       "  </thead>\n",
       "  <tbody>\n",
       "    <tr>\n",
       "      <th>29158</th>\n",
       "      <td>83</td>\n",
       "      <td>retired</td>\n",
       "      <td>married</td>\n",
       "      <td>primary</td>\n",
       "      <td>no</td>\n",
       "      <td>425</td>\n",
       "      <td>no</td>\n",
       "      <td>no</td>\n",
       "      <td>telephone</td>\n",
       "      <td>2</td>\n",
       "      <td>feb</td>\n",
       "      <td>912</td>\n",
       "      <td>1</td>\n",
       "      <td>-1</td>\n",
       "      <td>0</td>\n",
       "      <td>unknown</td>\n",
       "      <td>no</td>\n",
       "    </tr>\n",
       "    <tr>\n",
       "      <th>29261</th>\n",
       "      <td>75</td>\n",
       "      <td>retired</td>\n",
       "      <td>divorced</td>\n",
       "      <td>primary</td>\n",
       "      <td>no</td>\n",
       "      <td>46</td>\n",
       "      <td>no</td>\n",
       "      <td>no</td>\n",
       "      <td>cellular</td>\n",
       "      <td>2</td>\n",
       "      <td>feb</td>\n",
       "      <td>294</td>\n",
       "      <td>1</td>\n",
       "      <td>-1</td>\n",
       "      <td>0</td>\n",
       "      <td>unknown</td>\n",
       "      <td>no</td>\n",
       "    </tr>\n",
       "    <tr>\n",
       "      <th>29263</th>\n",
       "      <td>75</td>\n",
       "      <td>retired</td>\n",
       "      <td>married</td>\n",
       "      <td>primary</td>\n",
       "      <td>no</td>\n",
       "      <td>3324</td>\n",
       "      <td>no</td>\n",
       "      <td>no</td>\n",
       "      <td>cellular</td>\n",
       "      <td>2</td>\n",
       "      <td>feb</td>\n",
       "      <td>149</td>\n",
       "      <td>1</td>\n",
       "      <td>-1</td>\n",
       "      <td>0</td>\n",
       "      <td>unknown</td>\n",
       "      <td>no</td>\n",
       "    </tr>\n",
       "    <tr>\n",
       "      <th>29322</th>\n",
       "      <td>83</td>\n",
       "      <td>retired</td>\n",
       "      <td>married</td>\n",
       "      <td>tertiary</td>\n",
       "      <td>no</td>\n",
       "      <td>6236</td>\n",
       "      <td>no</td>\n",
       "      <td>no</td>\n",
       "      <td>cellular</td>\n",
       "      <td>2</td>\n",
       "      <td>feb</td>\n",
       "      <td>283</td>\n",
       "      <td>2</td>\n",
       "      <td>-1</td>\n",
       "      <td>0</td>\n",
       "      <td>unknown</td>\n",
       "      <td>no</td>\n",
       "    </tr>\n",
       "    <tr>\n",
       "      <th>29865</th>\n",
       "      <td>75</td>\n",
       "      <td>retired</td>\n",
       "      <td>divorced</td>\n",
       "      <td>primary</td>\n",
       "      <td>no</td>\n",
       "      <td>3881</td>\n",
       "      <td>yes</td>\n",
       "      <td>no</td>\n",
       "      <td>cellular</td>\n",
       "      <td>4</td>\n",
       "      <td>feb</td>\n",
       "      <td>136</td>\n",
       "      <td>3</td>\n",
       "      <td>-1</td>\n",
       "      <td>0</td>\n",
       "      <td>unknown</td>\n",
       "      <td>yes</td>\n",
       "    </tr>\n",
       "    <tr>\n",
       "      <th>...</th>\n",
       "      <td>...</td>\n",
       "      <td>...</td>\n",
       "      <td>...</td>\n",
       "      <td>...</td>\n",
       "      <td>...</td>\n",
       "      <td>...</td>\n",
       "      <td>...</td>\n",
       "      <td>...</td>\n",
       "      <td>...</td>\n",
       "      <td>...</td>\n",
       "      <td>...</td>\n",
       "      <td>...</td>\n",
       "      <td>...</td>\n",
       "      <td>...</td>\n",
       "      <td>...</td>\n",
       "      <td>...</td>\n",
       "      <td>...</td>\n",
       "    </tr>\n",
       "    <tr>\n",
       "      <th>45163</th>\n",
       "      <td>71</td>\n",
       "      <td>retired</td>\n",
       "      <td>married</td>\n",
       "      <td>secondary</td>\n",
       "      <td>no</td>\n",
       "      <td>2064</td>\n",
       "      <td>no</td>\n",
       "      <td>no</td>\n",
       "      <td>cellular</td>\n",
       "      <td>9</td>\n",
       "      <td>nov</td>\n",
       "      <td>379</td>\n",
       "      <td>2</td>\n",
       "      <td>92</td>\n",
       "      <td>3</td>\n",
       "      <td>failure</td>\n",
       "      <td>no</td>\n",
       "    </tr>\n",
       "    <tr>\n",
       "      <th>45191</th>\n",
       "      <td>75</td>\n",
       "      <td>retired</td>\n",
       "      <td>divorced</td>\n",
       "      <td>tertiary</td>\n",
       "      <td>no</td>\n",
       "      <td>3810</td>\n",
       "      <td>yes</td>\n",
       "      <td>no</td>\n",
       "      <td>cellular</td>\n",
       "      <td>16</td>\n",
       "      <td>nov</td>\n",
       "      <td>262</td>\n",
       "      <td>1</td>\n",
       "      <td>183</td>\n",
       "      <td>1</td>\n",
       "      <td>failure</td>\n",
       "      <td>yes</td>\n",
       "    </tr>\n",
       "    <tr>\n",
       "      <th>45204</th>\n",
       "      <td>73</td>\n",
       "      <td>retired</td>\n",
       "      <td>married</td>\n",
       "      <td>secondary</td>\n",
       "      <td>no</td>\n",
       "      <td>2850</td>\n",
       "      <td>no</td>\n",
       "      <td>no</td>\n",
       "      <td>cellular</td>\n",
       "      <td>17</td>\n",
       "      <td>nov</td>\n",
       "      <td>300</td>\n",
       "      <td>1</td>\n",
       "      <td>40</td>\n",
       "      <td>8</td>\n",
       "      <td>failure</td>\n",
       "      <td>yes</td>\n",
       "    </tr>\n",
       "    <tr>\n",
       "      <th>45207</th>\n",
       "      <td>71</td>\n",
       "      <td>retired</td>\n",
       "      <td>divorced</td>\n",
       "      <td>primary</td>\n",
       "      <td>no</td>\n",
       "      <td>1729</td>\n",
       "      <td>no</td>\n",
       "      <td>no</td>\n",
       "      <td>cellular</td>\n",
       "      <td>17</td>\n",
       "      <td>nov</td>\n",
       "      <td>456</td>\n",
       "      <td>2</td>\n",
       "      <td>-1</td>\n",
       "      <td>0</td>\n",
       "      <td>unknown</td>\n",
       "      <td>yes</td>\n",
       "    </tr>\n",
       "    <tr>\n",
       "      <th>45208</th>\n",
       "      <td>72</td>\n",
       "      <td>retired</td>\n",
       "      <td>married</td>\n",
       "      <td>secondary</td>\n",
       "      <td>no</td>\n",
       "      <td>5715</td>\n",
       "      <td>no</td>\n",
       "      <td>no</td>\n",
       "      <td>cellular</td>\n",
       "      <td>17</td>\n",
       "      <td>nov</td>\n",
       "      <td>1127</td>\n",
       "      <td>5</td>\n",
       "      <td>184</td>\n",
       "      <td>3</td>\n",
       "      <td>success</td>\n",
       "      <td>yes</td>\n",
       "    </tr>\n",
       "  </tbody>\n",
       "</table>\n",
       "<p>487 rows × 17 columns</p>\n",
       "</div>"
      ],
      "text/plain": [
       "       age      job   marital  education default  balance housing loan  \\\n",
       "29158   83  retired   married    primary      no      425      no   no   \n",
       "29261   75  retired  divorced    primary      no       46      no   no   \n",
       "29263   75  retired   married    primary      no     3324      no   no   \n",
       "29322   83  retired   married   tertiary      no     6236      no   no   \n",
       "29865   75  retired  divorced    primary      no     3881     yes   no   \n",
       "...    ...      ...       ...        ...     ...      ...     ...  ...   \n",
       "45163   71  retired   married  secondary      no     2064      no   no   \n",
       "45191   75  retired  divorced   tertiary      no     3810     yes   no   \n",
       "45204   73  retired   married  secondary      no     2850      no   no   \n",
       "45207   71  retired  divorced    primary      no     1729      no   no   \n",
       "45208   72  retired   married  secondary      no     5715      no   no   \n",
       "\n",
       "         contact  day month  duration  campaign  pdays  previous poutcome    y  \n",
       "29158  telephone    2   feb       912         1     -1         0  unknown   no  \n",
       "29261   cellular    2   feb       294         1     -1         0  unknown   no  \n",
       "29263   cellular    2   feb       149         1     -1         0  unknown   no  \n",
       "29322   cellular    2   feb       283         2     -1         0  unknown   no  \n",
       "29865   cellular    4   feb       136         3     -1         0  unknown  yes  \n",
       "...          ...  ...   ...       ...       ...    ...       ...      ...  ...  \n",
       "45163   cellular    9   nov       379         2     92         3  failure   no  \n",
       "45191   cellular   16   nov       262         1    183         1  failure  yes  \n",
       "45204   cellular   17   nov       300         1     40         8  failure  yes  \n",
       "45207   cellular   17   nov       456         2     -1         0  unknown  yes  \n",
       "45208   cellular   17   nov      1127         5    184         3  success  yes  \n",
       "\n",
       "[487 rows x 17 columns]"
      ]
     },
     "execution_count": 287,
     "metadata": {},
     "output_type": "execute_result"
    }
   ],
   "source": [
    "# Identifying Outliers using IQR for the Age feature\n",
    "Q1_age = bank_df['age'].quantile(0.25)\n",
    "Q3_age = bank_df['age'].quantile(0.75)\n",
    "IQR_age = Q3_age - Q1_age\n",
    "\n",
    "# Calculating the lower and upper bound\n",
    "age_lower_bound = Q1_age - 1.5 * IQR_age\n",
    "age_upper_bound = Q3_age + 1.5 * IQR_age\n",
    "\n",
    "# Subseting the dataframe to reveal the outliers\n",
    "outliers_age = bank_df[(bank_df['age'] < age_lower_bound) | (bank_df['age'] > age_upper_bound)]\n",
    "outliers_age"
   ]
  },
  {
   "cell_type": "code",
   "execution_count": 288,
   "id": "f933b74c",
   "metadata": {
    "scrolled": true
   },
   "outputs": [
    {
     "data": {
      "text/plain": [
       "count    487.000000\n",
       "mean      76.815195\n",
       "std        4.800842\n",
       "min       71.000000\n",
       "25%       73.000000\n",
       "50%       76.000000\n",
       "75%       80.000000\n",
       "max       95.000000\n",
       "Name: age, dtype: float64"
      ]
     },
     "execution_count": 288,
     "metadata": {},
     "output_type": "execute_result"
    }
   ],
   "source": [
    "# Summary statistics for the outliers age\n",
    "outliers_age.age.describe()"
   ]
  },
  {
   "cell_type": "markdown",
   "id": "5e0d3247",
   "metadata": {},
   "source": [
    "The IQR shows that there 487 outliers in the age feature of the dataset. It also shows that these outliers are between the age of 71 and 95 reconfirming the presence of elderly customers. The outliers are majorly retired customers who are either still married or divorced do not have housing loans."
   ]
  },
  {
   "cell_type": "markdown",
   "id": "beb07f92",
   "metadata": {},
   "source": [
    "#### Handling Age Outliers"
   ]
  },
  {
   "cell_type": "code",
   "execution_count": 289,
   "id": "3258401e",
   "metadata": {
    "scrolled": true
   },
   "outputs": [
    {
     "data": {
      "text/plain": [
       "y\n",
       "no     269\n",
       "yes    218\n",
       "Name: count, dtype: int64"
      ]
     },
     "execution_count": 289,
     "metadata": {},
     "output_type": "execute_result"
    }
   ],
   "source": [
    "# checking the distribution of the target feature in the outlier data\n",
    "outliers_age.y.value_counts()"
   ]
  },
  {
   "cell_type": "markdown",
   "id": "c9330166",
   "metadata": {},
   "source": [
    "This suggests that a significant number of elderly customers did subscribe to the term deposit. This indicates that elderly customers actively engage with the bank’s term deposit offers.\n",
    "\n",
    "**Decision**\n",
    "\n",
    "The outliers in the age feature will be kept due to the following reasons:\n",
    "- The elderly ages represent a real part of the bank’s customers data. Keeping the elderly customers' data allows the analysis to capture important information about this group, and not to potentially miss out on understanding the behaviors and needs of older customers, which might be distinct and relevant for the marketing strategies.\n",
    "- Excluding data points based solely on age could introduce bias into the analysis as it's important to ensure that the dataset reflects the true population to avoid biased result."
   ]
  },
  {
   "cell_type": "markdown",
   "id": "72d4f7fe",
   "metadata": {},
   "source": [
    "#### Detecting Balance Outliers"
   ]
  },
  {
   "cell_type": "code",
   "execution_count": 290,
   "id": "b2297aec",
   "metadata": {
    "scrolled": true
   },
   "outputs": [
    {
     "data": {
      "image/png": "[encoded data removed]",
      "text/plain": [
       "<Figure size 640x480 with 1 Axes>"
      ]
     },
     "metadata": {},
     "output_type": "display_data"
    }
   ],
   "source": [
    "# Detecting Outliers using Box plot for the Age feature\n",
    "sns.boxplot(x=bank_df['balance'])\n",
    "plt.title('Box Plot of Balance')\n",
    "plt.xscale('symlog')\n",
    "plt.xlabel('Balance')\n",
    "plt.show()"
   ]
  },
  {
   "cell_type": "markdown",
   "id": "b4b58efc",
   "metadata": {},
   "source": [
    "The boxplot shows that there are outliers on both ends of the whisker, the median balance value is located within the higher end of the IQR, suggesting a right-skewed distribution. The negative balance shows that some customers may have overdrafts or outstanding debts while the extreme high balances could be due to high net worth customers.\n"
   ]
  },
  {
   "cell_type": "code",
   "execution_count": 291,
   "id": "63c376c3",
   "metadata": {},
   "outputs": [
    {
     "data": {
      "text/html": [
       "<div>\n",
       "<style scoped>\n",
       "    .dataframe tbody tr th:only-of-type {\n",
       "        vertical-align: middle;\n",
       "    }\n",
       "\n",
       "    .dataframe tbody tr th {\n",
       "        vertical-align: top;\n",
       "    }\n",
       "\n",
       "    .dataframe thead th {\n",
       "        text-align: right;\n",
       "    }\n",
       "</style>\n",
       "<table border=\"1\" class=\"dataframe\">\n",
       "  <thead>\n",
       "    <tr style=\"text-align: right;\">\n",
       "      <th></th>\n",
       "      <th>age</th>\n",
       "      <th>job</th>\n",
       "      <th>marital</th>\n",
       "      <th>education</th>\n",
       "      <th>default</th>\n",
       "      <th>balance</th>\n",
       "      <th>housing</th>\n",
       "      <th>loan</th>\n",
       "      <th>contact</th>\n",
       "      <th>day</th>\n",
       "      <th>month</th>\n",
       "      <th>duration</th>\n",
       "      <th>campaign</th>\n",
       "      <th>pdays</th>\n",
       "      <th>previous</th>\n",
       "      <th>poutcome</th>\n",
       "      <th>y</th>\n",
       "    </tr>\n",
       "  </thead>\n",
       "  <tbody>\n",
       "    <tr>\n",
       "      <th>34</th>\n",
       "      <td>51</td>\n",
       "      <td>management</td>\n",
       "      <td>married</td>\n",
       "      <td>tertiary</td>\n",
       "      <td>no</td>\n",
       "      <td>10635</td>\n",
       "      <td>yes</td>\n",
       "      <td>no</td>\n",
       "      <td>unknown</td>\n",
       "      <td>5</td>\n",
       "      <td>may</td>\n",
       "      <td>336</td>\n",
       "      <td>1</td>\n",
       "      <td>-1</td>\n",
       "      <td>0</td>\n",
       "      <td>unknown</td>\n",
       "      <td>no</td>\n",
       "    </tr>\n",
       "    <tr>\n",
       "      <th>65</th>\n",
       "      <td>51</td>\n",
       "      <td>management</td>\n",
       "      <td>married</td>\n",
       "      <td>tertiary</td>\n",
       "      <td>no</td>\n",
       "      <td>6530</td>\n",
       "      <td>yes</td>\n",
       "      <td>no</td>\n",
       "      <td>unknown</td>\n",
       "      <td>5</td>\n",
       "      <td>may</td>\n",
       "      <td>91</td>\n",
       "      <td>1</td>\n",
       "      <td>-1</td>\n",
       "      <td>0</td>\n",
       "      <td>unknown</td>\n",
       "      <td>no</td>\n",
       "    </tr>\n",
       "    <tr>\n",
       "      <th>69</th>\n",
       "      <td>35</td>\n",
       "      <td>blue-collar</td>\n",
       "      <td>single</td>\n",
       "      <td>secondary</td>\n",
       "      <td>no</td>\n",
       "      <td>12223</td>\n",
       "      <td>yes</td>\n",
       "      <td>yes</td>\n",
       "      <td>unknown</td>\n",
       "      <td>5</td>\n",
       "      <td>may</td>\n",
       "      <td>177</td>\n",
       "      <td>1</td>\n",
       "      <td>-1</td>\n",
       "      <td>0</td>\n",
       "      <td>unknown</td>\n",
       "      <td>no</td>\n",
       "    </tr>\n",
       "    <tr>\n",
       "      <th>70</th>\n",
       "      <td>57</td>\n",
       "      <td>blue-collar</td>\n",
       "      <td>married</td>\n",
       "      <td>secondary</td>\n",
       "      <td>no</td>\n",
       "      <td>5935</td>\n",
       "      <td>yes</td>\n",
       "      <td>yes</td>\n",
       "      <td>unknown</td>\n",
       "      <td>5</td>\n",
       "      <td>may</td>\n",
       "      <td>258</td>\n",
       "      <td>1</td>\n",
       "      <td>-1</td>\n",
       "      <td>0</td>\n",
       "      <td>unknown</td>\n",
       "      <td>no</td>\n",
       "    </tr>\n",
       "    <tr>\n",
       "      <th>186</th>\n",
       "      <td>40</td>\n",
       "      <td>services</td>\n",
       "      <td>divorced</td>\n",
       "      <td>unknown</td>\n",
       "      <td>no</td>\n",
       "      <td>4384</td>\n",
       "      <td>yes</td>\n",
       "      <td>no</td>\n",
       "      <td>unknown</td>\n",
       "      <td>5</td>\n",
       "      <td>may</td>\n",
       "      <td>315</td>\n",
       "      <td>1</td>\n",
       "      <td>-1</td>\n",
       "      <td>0</td>\n",
       "      <td>unknown</td>\n",
       "      <td>no</td>\n",
       "    </tr>\n",
       "    <tr>\n",
       "      <th>...</th>\n",
       "      <td>...</td>\n",
       "      <td>...</td>\n",
       "      <td>...</td>\n",
       "      <td>...</td>\n",
       "      <td>...</td>\n",
       "      <td>...</td>\n",
       "      <td>...</td>\n",
       "      <td>...</td>\n",
       "      <td>...</td>\n",
       "      <td>...</td>\n",
       "      <td>...</td>\n",
       "      <td>...</td>\n",
       "      <td>...</td>\n",
       "      <td>...</td>\n",
       "      <td>...</td>\n",
       "      <td>...</td>\n",
       "      <td>...</td>\n",
       "    </tr>\n",
       "    <tr>\n",
       "      <th>45164</th>\n",
       "      <td>35</td>\n",
       "      <td>services</td>\n",
       "      <td>married</td>\n",
       "      <td>tertiary</td>\n",
       "      <td>no</td>\n",
       "      <td>4655</td>\n",
       "      <td>no</td>\n",
       "      <td>no</td>\n",
       "      <td>cellular</td>\n",
       "      <td>9</td>\n",
       "      <td>nov</td>\n",
       "      <td>111</td>\n",
       "      <td>2</td>\n",
       "      <td>-1</td>\n",
       "      <td>0</td>\n",
       "      <td>unknown</td>\n",
       "      <td>no</td>\n",
       "    </tr>\n",
       "    <tr>\n",
       "      <th>45181</th>\n",
       "      <td>46</td>\n",
       "      <td>blue-collar</td>\n",
       "      <td>married</td>\n",
       "      <td>secondary</td>\n",
       "      <td>no</td>\n",
       "      <td>6879</td>\n",
       "      <td>no</td>\n",
       "      <td>no</td>\n",
       "      <td>cellular</td>\n",
       "      <td>15</td>\n",
       "      <td>nov</td>\n",
       "      <td>74</td>\n",
       "      <td>2</td>\n",
       "      <td>118</td>\n",
       "      <td>3</td>\n",
       "      <td>failure</td>\n",
       "      <td>no</td>\n",
       "    </tr>\n",
       "    <tr>\n",
       "      <th>45185</th>\n",
       "      <td>60</td>\n",
       "      <td>services</td>\n",
       "      <td>married</td>\n",
       "      <td>tertiary</td>\n",
       "      <td>no</td>\n",
       "      <td>4256</td>\n",
       "      <td>yes</td>\n",
       "      <td>no</td>\n",
       "      <td>cellular</td>\n",
       "      <td>16</td>\n",
       "      <td>nov</td>\n",
       "      <td>200</td>\n",
       "      <td>1</td>\n",
       "      <td>92</td>\n",
       "      <td>4</td>\n",
       "      <td>success</td>\n",
       "      <td>yes</td>\n",
       "    </tr>\n",
       "    <tr>\n",
       "      <th>45191</th>\n",
       "      <td>75</td>\n",
       "      <td>retired</td>\n",
       "      <td>divorced</td>\n",
       "      <td>tertiary</td>\n",
       "      <td>no</td>\n",
       "      <td>3810</td>\n",
       "      <td>yes</td>\n",
       "      <td>no</td>\n",
       "      <td>cellular</td>\n",
       "      <td>16</td>\n",
       "      <td>nov</td>\n",
       "      <td>262</td>\n",
       "      <td>1</td>\n",
       "      <td>183</td>\n",
       "      <td>1</td>\n",
       "      <td>failure</td>\n",
       "      <td>yes</td>\n",
       "    </tr>\n",
       "    <tr>\n",
       "      <th>45208</th>\n",
       "      <td>72</td>\n",
       "      <td>retired</td>\n",
       "      <td>married</td>\n",
       "      <td>secondary</td>\n",
       "      <td>no</td>\n",
       "      <td>5715</td>\n",
       "      <td>no</td>\n",
       "      <td>no</td>\n",
       "      <td>cellular</td>\n",
       "      <td>17</td>\n",
       "      <td>nov</td>\n",
       "      <td>1127</td>\n",
       "      <td>5</td>\n",
       "      <td>184</td>\n",
       "      <td>3</td>\n",
       "      <td>success</td>\n",
       "      <td>yes</td>\n",
       "    </tr>\n",
       "  </tbody>\n",
       "</table>\n",
       "<p>4729 rows × 17 columns</p>\n",
       "</div>"
      ],
      "text/plain": [
       "       age          job   marital  education default  balance housing loan  \\\n",
       "34      51   management   married   tertiary      no    10635     yes   no   \n",
       "65      51   management   married   tertiary      no     6530     yes   no   \n",
       "69      35  blue-collar    single  secondary      no    12223     yes  yes   \n",
       "70      57  blue-collar   married  secondary      no     5935     yes  yes   \n",
       "186     40     services  divorced    unknown      no     4384     yes   no   \n",
       "...    ...          ...       ...        ...     ...      ...     ...  ...   \n",
       "45164   35     services   married   tertiary      no     4655      no   no   \n",
       "45181   46  blue-collar   married  secondary      no     6879      no   no   \n",
       "45185   60     services   married   tertiary      no     4256     yes   no   \n",
       "45191   75      retired  divorced   tertiary      no     3810     yes   no   \n",
       "45208   72      retired   married  secondary      no     5715      no   no   \n",
       "\n",
       "        contact  day month  duration  campaign  pdays  previous poutcome    y  \n",
       "34      unknown    5   may       336         1     -1         0  unknown   no  \n",
       "65      unknown    5   may        91         1     -1         0  unknown   no  \n",
       "69      unknown    5   may       177         1     -1         0  unknown   no  \n",
       "70      unknown    5   may       258         1     -1         0  unknown   no  \n",
       "186     unknown    5   may       315         1     -1         0  unknown   no  \n",
       "...         ...  ...   ...       ...       ...    ...       ...      ...  ...  \n",
       "45164  cellular    9   nov       111         2     -1         0  unknown   no  \n",
       "45181  cellular   15   nov        74         2    118         3  failure   no  \n",
       "45185  cellular   16   nov       200         1     92         4  success  yes  \n",
       "45191  cellular   16   nov       262         1    183         1  failure  yes  \n",
       "45208  cellular   17   nov      1127         5    184         3  success  yes  \n",
       "\n",
       "[4729 rows x 17 columns]"
      ]
     },
     "execution_count": 291,
     "metadata": {},
     "output_type": "execute_result"
    }
   ],
   "source": [
    "# Identifying Outliers using IQR for the Balance feature\n",
    "Q1_balance = bank_df['balance'].quantile(0.25)\n",
    "Q3_balance = bank_df['balance'].quantile(0.75)\n",
    "IQR_balance = Q3_balance - Q1_balance\n",
    "\n",
    "# Calculating the lower and upper bound\n",
    "balance_lower_bound = Q1_balance - 1.5 * IQR_balance\n",
    "balance_upper_bound = Q3_balance + 1.5 * IQR_balance\n",
    "\n",
    "# Subseting the dataframe to reveal the outliers\n",
    "outliers_balance = bank_df[(bank_df['balance'] < balance_lower_bound) | (bank_df['balance'] > balance_upper_bound)]\n",
    "outliers_balance"
   ]
  },
  {
   "cell_type": "code",
   "execution_count": 292,
   "id": "558f48b2",
   "metadata": {},
   "outputs": [
    {
     "data": {
      "text/html": [
       "<div>\n",
       "<style scoped>\n",
       "    .dataframe tbody tr th:only-of-type {\n",
       "        vertical-align: middle;\n",
       "    }\n",
       "\n",
       "    .dataframe tbody tr th {\n",
       "        vertical-align: top;\n",
       "    }\n",
       "\n",
       "    .dataframe thead th {\n",
       "        text-align: right;\n",
       "    }\n",
       "</style>\n",
       "<table border=\"1\" class=\"dataframe\">\n",
       "  <thead>\n",
       "    <tr style=\"text-align: right;\">\n",
       "      <th></th>\n",
       "      <th>balance</th>\n",
       "    </tr>\n",
       "  </thead>\n",
       "  <tbody>\n",
       "    <tr>\n",
       "      <th>count</th>\n",
       "      <td>4729.000000</td>\n",
       "    </tr>\n",
       "    <tr>\n",
       "      <th>mean</th>\n",
       "      <td>7539.743286</td>\n",
       "    </tr>\n",
       "    <tr>\n",
       "      <th>std</th>\n",
       "      <td>6317.738249</td>\n",
       "    </tr>\n",
       "    <tr>\n",
       "      <th>min</th>\n",
       "      <td>-8019.000000</td>\n",
       "    </tr>\n",
       "    <tr>\n",
       "      <th>25%</th>\n",
       "      <td>4323.000000</td>\n",
       "    </tr>\n",
       "    <tr>\n",
       "      <th>50%</th>\n",
       "      <td>5608.000000</td>\n",
       "    </tr>\n",
       "    <tr>\n",
       "      <th>75%</th>\n",
       "      <td>8266.000000</td>\n",
       "    </tr>\n",
       "    <tr>\n",
       "      <th>max</th>\n",
       "      <td>102127.000000</td>\n",
       "    </tr>\n",
       "  </tbody>\n",
       "</table>\n",
       "</div>"
      ],
      "text/plain": [
       "             balance\n",
       "count    4729.000000\n",
       "mean     7539.743286\n",
       "std      6317.738249\n",
       "min     -8019.000000\n",
       "25%      4323.000000\n",
       "50%      5608.000000\n",
       "75%      8266.000000\n",
       "max    102127.000000"
      ]
     },
     "execution_count": 292,
     "metadata": {},
     "output_type": "execute_result"
    }
   ],
   "source": [
    "# Summary statistics for the outliers age\n",
    "outliers_balance[['balance']].describe()"
   ]
  },
  {
   "cell_type": "markdown",
   "id": "1aa1779f",
   "metadata": {},
   "source": [
    "The IQR reveals that there are 4729 outliers in the balance feature of the dataset. The summary statistics shows that the mean balance (7,539.74) is higher than the median (5,608), indicating a positive skew in the data which is caused by small number of accounts with very high balances."
   ]
  },
  {
   "cell_type": "markdown",
   "id": "356a2119",
   "metadata": {},
   "source": [
    "#### Handling Balance Outliers\n",
    "We will handle the outliers using capping method. We will limit outliers with an upper and lower value."
   ]
  },
  {
   "cell_type": "code",
   "execution_count": 297,
   "id": "6c78a92e",
   "metadata": {
    "scrolled": false
   },
   "outputs": [],
   "source": [
    "# Capping outliers in Balance\n",
    "bank_df['balance'] = np.where(bank_df['balance'] < balance_lower_bound, balance_lower_bound, bank_df['balance'])\n",
    "bank_df['balance'] = np.where(bank_df['balance'] > balance_upper_bound, balance_upper_bound, bank_df['balance'])"
   ]
  },
  {
   "cell_type": "code",
   "execution_count": 307,
   "id": "d7efaa98",
   "metadata": {},
   "outputs": [
    {
     "data": {
      "image/png": "[encoded data removed]",
      "text/plain": [
       "<Figure size 640x480 with 1 Axes>"
      ]
     },
     "metadata": {},
     "output_type": "display_data"
    }
   ],
   "source": [
    "# Verifying the changes\n",
    "sns.boxplot(x=bank_df['balance'])\n",
    "plt.title('Box Plot of Balance')\n",
    "plt.show()"
   ]
  },
  {
   "cell_type": "code",
   "execution_count": 310,
   "id": "7bfcb3f0",
   "metadata": {},
   "outputs": [
    {
     "data": {
      "image/png": "[encoded data removed]",
      "text/plain": [
       "<Figure size 640x480 with 1 Axes>"
      ]
     },
     "metadata": {},
     "output_type": "display_data"
    }
   ],
   "source": [
    "# Detecting Outliers using Box plot for the Duration feature\n",
    "sns.boxplot(bank_df,x='duration')\n",
    "plt.title('Box Plot of Duration')\n",
    "plt.xlabel('Duration')\n",
    "plt.show()"
   ]
  },
  {
   "cell_type": "code",
   "execution_count": null,
   "id": "d464b72e",
   "metadata": {},
   "outputs": [],
   "source": []
  }
 ],
 "metadata": {
  "kernelspec": {
   "display_name": "Python 3 (ipykernel)",
   "language": "python",
   "name": "python3"
  },
  "language_info": {
   "codemirror_mode": {
    "name": "ipython",
    "version": 3
   },
   "file_extension": ".py",
   "mimetype": "text/x-python",
   "name": "python",
   "nbconvert_exporter": "python",
   "pygments_lexer": "ipython3",
   "version": "3.11.5"
  }
 },
 "nbformat": 4,
 "nbformat_minor": 5
}
